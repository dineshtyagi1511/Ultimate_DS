{
 "cells": [
  {
   "cell_type": "code",
   "execution_count": null,
   "id": "3f71a7c6",
   "metadata": {},
   "outputs": [],
   "source": []
  }
 ],
 "metadata": {
  "language_info": {
   "name": "python"
  }
 },
 "nbformat": 4,
 "nbformat_minor": 5
}
