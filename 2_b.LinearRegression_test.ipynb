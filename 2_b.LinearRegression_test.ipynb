{
 "cells": [
  {
   "cell_type": "code",
   "execution_count": 1,
   "id": "d0b5bab8",
   "metadata": {},
   "outputs": [],
   "source": [
    "import joblib\n",
    "import pandas as pd"
   ]
  },
  {
   "cell_type": "code",
   "execution_count": 2,
   "metadata": {},
   "outputs": [],
   "source": [
    "def make_prediction_from_list(input_list, feature_names, loaded_model, loaded_preprocessor):\n",
    "\n",
    "    X_input = pd.DataFrame([input_list], columns=feature_names)\n",
    "    print(f\"\\nInput DataFrame:\\n{X_input}\")\n",
    "    \n",
    "    X_input_processed = loaded_preprocessor.transform(X_input)\n",
    "\n",
    "    predictions = loaded_model.predict(X_input_processed)\n",
    "\n",
    "    return predictions[0]"
   ]
  },
  {
   "cell_type": "code",
   "execution_count": 3,
   "metadata": {},
   "outputs": [
    {
     "name": "stdout",
     "output_type": "stream",
     "text": [
      "Artifacts loaded successfully.\n"
     ]
    }
   ],
   "source": [
    "model_filename = 'final_sgd_reg_model.joblib'\n",
    "preprocessor_filename = 'data_preprocessor.joblib'\n",
    "\n",
    "loaded_model = joblib.load(model_filename)\n",
    "loaded_preprocessor = joblib.load(preprocessor_filename)\n",
    "\n",
    "print(\"Artifacts loaded successfully.\")"
   ]
  },
  {
   "cell_type": "code",
   "execution_count": 4,
   "metadata": {},
   "outputs": [],
   "source": [
    "test_features_list = [\n",
    "    50,    # crim\n",
    "    0,     # zn\n",
    "    18.1,  # indus\n",
    "    0,     # chas\n",
    "    0.7,   # nox\n",
    "    4.0,   # rm \n",
    "    100,   # age\n",
    "    1.0,   # dis \n",
    "    24,    # rad\n",
    "    666,   # tax\n",
    "    20.2,  # ptratio\n",
    "    300,   # black\n",
    "    30     # lstat \n",
    "]\n",
    "\n",
    "# 13 columns"
   ]
  },
  {
   "cell_type": "code",
   "execution_count": 5,
   "id": "50d95264",
   "metadata": {},
   "outputs": [],
   "source": [
    "FEATURE_COLUMNS = [\n",
    "    'crim', 'zn', 'indus', 'chas', 'nox', 'rm', 'age', \n",
    "    'dis', 'rad', 'tax', 'ptratio', 'black', 'lstat'\n",
    "]"
   ]
  },
  {
   "cell_type": "code",
   "execution_count": 6,
   "id": "a171553b",
   "metadata": {},
   "outputs": [
    {
     "name": "stdout",
     "output_type": "stream",
     "text": [
      "\n",
      "Input DataFrame:\n",
      "   crim  zn  indus  chas  nox   rm  age  dis  rad  tax  ptratio  black  lstat\n",
      "0    50   0   18.1     0  0.7  4.0  100  1.0   24  666     20.2    300     30\n"
     ]
    }
   ],
   "source": [
    "predicted_value_extreme = make_prediction_from_list(\n",
    "    input_list=test_features_list,\n",
    "    feature_names=FEATURE_COLUMNS,\n",
    "    loaded_model=loaded_model,\n",
    "    loaded_preprocessor=loaded_preprocessor\n",
    ")\n"
   ]
  },
  {
   "cell_type": "code",
   "execution_count": 7,
   "id": "3f71a7c6",
   "metadata": {},
   "outputs": [
    {
     "name": "stdout",
     "output_type": "stream",
     "text": [
      "\n",
      "\n",
      "Predicted medv: 2.51\n"
     ]
    }
   ],
   "source": [
    "print(f\"\\n\\nPredicted medv: {predicted_value_extreme:.2f}\")"
   ]
  },
  {
   "cell_type": "code",
   "execution_count": null,
   "id": "f6922f71",
   "metadata": {},
   "outputs": [],
   "source": []
  }
 ],
 "metadata": {
  "kernelspec": {
   "display_name": "Python 3",
   "language": "python",
   "name": "python3"
  },
  "language_info": {
   "codemirror_mode": {
    "name": "ipython",
    "version": 3
   },
   "file_extension": ".py",
   "mimetype": "text/x-python",
   "name": "python",
   "nbconvert_exporter": "python",
   "pygments_lexer": "ipython3",
   "version": "3.10.18"
  }
 },
 "nbformat": 4,
 "nbformat_minor": 5
}
